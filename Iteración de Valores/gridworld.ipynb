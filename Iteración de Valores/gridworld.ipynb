{
 "cells": [
  {
   "cell_type": "code",
   "execution_count": 1,
   "id": "924b6bde-593d-4656-ac03-117ca2604821",
   "metadata": {
    "tags": []
   },
   "outputs": [],
   "source": [
    "import numpy as np\n",
    "from scipy.spatial import distance\n",
    "import matplotlib.pyplot as plt\n",
    "import time"
   ]
  },
  {
   "cell_type": "code",
   "execution_count": 2,
   "id": "3b94f6bd-ba5b-4acd-bedf-21571ae3ea99",
   "metadata": {},
   "outputs": [],
   "source": [
    "start_time = time.time()"
   ]
  },
  {
   "cell_type": "code",
   "execution_count": 3,
   "id": "4cf5d576-dad3-449c-8884-ccc7ac5a387f",
   "metadata": {
    "tags": []
   },
   "outputs": [],
   "source": [
    "#grid size NxN\n",
    "#start (0,0), finish at (N-1,N-1)\n",
    "N = 5\n",
    "goal = (N-1,N-1)"
   ]
  },
  {
   "cell_type": "code",
   "execution_count": 4,
   "id": "6e1b63e9-0d84-4a6f-93d7-514be6ee2d60",
   "metadata": {},
   "outputs": [],
   "source": [
    "#actions : up, down, right, left, nothing\n",
    "actions = {\"up\" : (1,0), \"dwn\" : (-1,0), \"rght\": (0,1), \"lft\" : (0,-1), \"nthng\" :(0,0)}"
   ]
  },
  {
   "cell_type": "code",
   "execution_count": 5,
   "id": "b10b0a98-73d2-4ddc-af00-a348f1c50d8f",
   "metadata": {},
   "outputs": [],
   "source": [
    "def BellmanOp(x, u, actions_set = actions): #Bellman operator\n",
    "    values = {\"max\" : -np.inf, \"argmax\" : []}\n",
    "    for a in actions_set:\n",
    "        s = tuple(map(sum, zip(x, actions_set[a]))) #new state (s=x+a) by action a\n",
    "        \n",
    "        if s[0] < 0 or s[0] > N-1 or s[1] < 0 or s[1] > N-1: #check if new state s is out of bounds\n",
    "            continue\n",
    "        else:\n",
    "            if x == goal and a == \"nthng\": #reward function\n",
    "                B = 1 + g*u[s]\n",
    "\n",
    "                if values[\"max\"] == B:\n",
    "                    values[\"argmax\"].append(a)\n",
    "\n",
    "                elif values[\"max\"] < B:\n",
    "                    values[\"max\"] = B\n",
    "                    values[\"argmax\"] = [a]\n",
    "            \n",
    "            else:\n",
    "                B = g*u[s]\n",
    "\n",
    "                if values[\"max\"] == B:\n",
    "                    values[\"argmax\"].append(a)\n",
    "\n",
    "                elif values[\"max\"] < B:\n",
    "                    values[\"max\"] = B\n",
    "                    values[\"argmax\"] = [a]\n",
    "    return values"
   ]
  },
  {
   "cell_type": "code",
   "execution_count": 6,
   "id": "a0c17f21-4127-4743-9466-903597e896e9",
   "metadata": {},
   "outputs": [],
   "source": [
    "def GraphResults(u, politic):\n",
    "    actions_symbols = {\"up\" : \"↑\", \"dwn\" : \"↓\", \"rght\": \"→\", \"lft\" : \"←\", \"nthng\" : \"↻\"}\n",
    "    float_formatter = \"{:.2f}\".format\n",
    "    \n",
    "    fig, ax = plt.subplots()\n",
    "    im = ax.matshow(np.full((N,N), 255, dtype=np.float32), origin='lower', cmap='gray', vmin=0, vmax=255)\n",
    "    for i in range(0,N):\n",
    "        for r in range(0,N):\n",
    "            index = np.ravel_multi_index((i,r), (N,N))\n",
    "            for a in politic[index]:\n",
    "                if a == \"up\":\n",
    "                    ax.text(r,i, actions_symbols[a], va=\"baseline\", ha=\"center\", fontsize=\"xx-large\")\n",
    "                elif a == \"rght\":\n",
    "                    ax.text(r,i, actions_symbols[a], va=\"center\", ha=\"left\", fontsize=\"xx-large\")\n",
    "                else:\n",
    "                    ax.text(r,i, actions_symbols[a], va=\"baseline\", ha=\"center\", fontsize=\"xx-large\")\n",
    "                    \n",
    "            ax.text(r,i-0.25 , float_formatter(u[i,r]), va=\"top\", ha=\"right\")\n",
    "                \n",
    "    plt.hlines(y=np.arange(0, N)+0.5, xmin=np.full(N, 0)-0.5, xmax=np.full(N, N)-0.5, color=\"black\", linewidth=1)\n",
    "    plt.vlines(x=np.arange(0, N)+0.5, ymin=np.full(N, 0)-0.5, ymax=np.full(N, N)-0.5, color=\"black\", linewidth=1)\n",
    "    \n",
    "    fig.tight_layout()\n",
    "    #plt.savefig('gridworld_solved.png', dpi=300)\n",
    "    plt.show()"
   ]
  },
  {
   "cell_type": "code",
   "execution_count": 7,
   "id": "48f1919c-1584-47df-9a4a-541bfbf2386b",
   "metadata": {},
   "outputs": [],
   "source": [
    "vn = np.zeros((N,N)) #start v0 as an array of zeroes\n",
    "vni = np.zeros((N, N))\n",
    "decision_grid = []\n",
    "\n",
    "iterations = 1\n",
    "\n",
    "e = 0.15 #epsilon\n",
    "g = 0.80 #gamma"
   ]
  },
  {
   "cell_type": "code",
   "execution_count": 8,
   "id": "6ea1d86d-d688-485a-8ba7-02ece8b430d9",
   "metadata": {},
   "outputs": [],
   "source": [
    "#first iteration\n",
    "for i in range(0,N):\n",
    "    for r in range(0,N): #state x = (i,j)\n",
    "        values = BellmanOp((i,r), vn)\n",
    "        vni[i,r] = values[\"max\"]\n",
    "        decision_grid.append(values[\"argmax\"])"
   ]
  },
  {
   "cell_type": "code",
   "execution_count": 9,
   "id": "a40e8e9b-c708-4ca4-9273-a53ddce2c226",
   "metadata": {},
   "outputs": [],
   "source": [
    "while distance.chebyshev(np.ravel(vni), np.ravel(vn)) >= e*(1-g)/(2*g):\n",
    "    vn = np.copy(vni)\n",
    "    decision_grid = []\n",
    "    for i in range(0,N):\n",
    "        for r in range(0,N): #state x = (i,j)\n",
    "            values = BellmanOp((i,r), vn)\n",
    "            vni[i,r] = values[\"max\"]\n",
    "            decision_grid.append(values[\"argmax\"])\n",
    "            \n",
    "    iterations += 1"
   ]
  },
  {
   "cell_type": "code",
   "execution_count": 10,
   "id": "1ccce0c8-e047-4c20-a7c1-f143bcc7b557",
   "metadata": {
    "tags": []
   },
   "outputs": [
    {
     "name": "stdout",
     "output_type": "stream",
     "text": [
      "0.06999063491821289\n"
     ]
    }
   ],
   "source": [
    "print(time.time() - start_time) #time needed for running the notebook"
   ]
  },
  {
   "cell_type": "code",
   "execution_count": 11,
   "id": "1cb1349d-ea5e-46b0-97aa-07c6a125cba1",
   "metadata": {},
   "outputs": [
    {
     "name": "stdout",
     "output_type": "stream",
     "text": [
      "Number of iterations:  19\n"
     ]
    }
   ],
   "source": [
    "print(\"Number of iterations: \", iterations)"
   ]
  },
  {
   "cell_type": "raw",
   "id": "fe3604f8-addf-4fdd-a6b9-c78179d4eef7",
   "metadata": {
    "tags": []
   },
   "source": [
    "#save decision rule\n",
    "import json\n",
    "\n",
    "with open('gridworld_drule.txt', 'w') as f:\n",
    "    f.write(json.dumps(decision_grid))"
   ]
  },
  {
   "cell_type": "code",
   "execution_count": 12,
   "id": "bf140620-7efe-42c7-9296-be4535ffae70",
   "metadata": {
    "tags": []
   },
   "outputs": [
    {
     "data": {
      "image/png": "[encoded data removed]",
      "text/plain": [
       "<Figure size 640x480 with 1 Axes>"
      ]
     },
     "metadata": {},
     "output_type": "display_data"
    }
   ],
   "source": [
    "GraphResults(vni,decision_grid)"
   ]
  },
  {
   "cell_type": "code",
   "execution_count": 13,
   "id": "9854a53d-2e19-472b-96bd-4acb5a828f47",
   "metadata": {
    "tags": []
   },
   "outputs": [],
   "source": [
    "position = (0,0) #initial position\n",
    "grid = np.zeros((N,N))\n",
    "grid[position] = 1"
   ]
  },
  {
   "cell_type": "code",
   "execution_count": 14,
   "id": "7ab715bd-03c8-419e-94bb-9d4a1cfeef35",
   "metadata": {
    "tags": []
   },
   "outputs": [],
   "source": [
    "#following decision rule from the initial position\n",
    "while position != (4,4):\n",
    "    index = np.ravel_multi_index(position, (N,N))\n",
    "    a_id = np.random.choice(len(decision_grid[index]))\n",
    "    position = tuple(map(sum, zip(position, actions[decision_grid[index][a_id]]))) #take action a\n",
    "    grid[position] = 1"
   ]
  },
  {
   "cell_type": "code",
   "execution_count": 15,
   "id": "9917ddd4-1392-4ee6-953b-120536acfb88",
   "metadata": {
    "tags": []
   },
   "outputs": [
    {
     "data": {
      "text/plain": [
       "<matplotlib.image.AxesImage at 0x22b844bed10>"
      ]
     },
     "execution_count": 15,
     "metadata": {},
     "output_type": "execute_result"
    },
    {
     "data": {
      "image/png": "[encoded data removed]",
      "text/plain": [
       "<Figure size 640x480 with 1 Axes>"
      ]
     },
     "metadata": {},
     "output_type": "display_data"
    }
   ],
   "source": [
    "plt.imshow(grid)"
   ]
  },
  {
   "cell_type": "code",
   "execution_count": null,
   "id": "fabfa603-67de-4c3d-a5fc-fef0a3619b7b",
   "metadata": {},
   "outputs": [],
   "source": []
  }
 ],
 "metadata": {
  "kernelspec": {
   "display_name": "Python 3 (ipykernel)",
   "language": "python",
   "name": "python3"
  },
  "language_info": {
   "codemirror_mode": {
    "name": "ipython",
    "version": 3
   },
   "file_extension": ".py",
   "mimetype": "text/x-python",
   "name": "python",
   "nbconvert_exporter": "python",
   "pygments_lexer": "ipython3",
   "version": "3.11.5"
  }
 },
 "nbformat": 4,
 "nbformat_minor": 5
}
