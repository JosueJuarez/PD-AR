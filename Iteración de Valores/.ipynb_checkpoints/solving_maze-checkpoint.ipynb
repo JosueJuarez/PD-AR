{
 "cells": [
  {
   "cell_type": "code",
   "execution_count": 1,
   "id": "924b6bde-593d-4656-ac03-117ca2604821",
   "metadata": {
    "tags": []
   },
   "outputs": [],
   "source": [
    "import numpy as np\n",
    "from scipy.spatial import distance\n",
    "import matplotlib.pyplot as plt\n",
    "import time"
   ]
  },
  {
   "cell_type": "code",
   "execution_count": 2,
   "id": "3b94f6bd-ba5b-4acd-bedf-21571ae3ea99",
   "metadata": {},
   "outputs": [],
   "source": [
    "start_time = time.time()"
   ]
  },
  {
   "cell_type": "markdown",
   "id": "fce6e9f3-ee85-464d-a3fe-ae4830dac335",
   "metadata": {},
   "source": [
    "maze obtained from: http://personal.cimat.mx:8181/~hector.chang/maze.txt"
   ]
  },
  {
   "cell_type": "code",
   "execution_count": 3,
   "id": "af1aeb7f-9789-4682-9c18-9754b50a0e8e",
   "metadata": {
    "tags": []
   },
   "outputs": [],
   "source": [
    "with open(\"maze.txt\", \"r\") as maze:\n",
    "    maze = np.array([[int(num) for num in line.split(\",\")] for line in maze])\n",
    "N,M = maze.shape;\n",
    "#start (1,1), finish at (39,39)\n",
    "goal = (39,39)"
   ]
  },
  {
   "cell_type": "code",
   "execution_count": 4,
   "id": "60d03d4c-032e-4700-921b-1658cc667c03",
   "metadata": {
    "tags": []
   },
   "outputs": [
    {
     "data": {
      "image/png": "[encoded data removed]",
      "text/plain": [
       "<Figure size 640x480 with 1 Axes>"
      ]
     },
     "metadata": {},
     "output_type": "display_data"
    }
   ],
   "source": [
    "fig, ax = plt.subplots()\n",
    "ax.matshow(1-maze,  origin='lower', cmap='gray', vmin=0, vmax=1)\n",
    "fig.tight_layout()\n",
    "plt.show()\n",
    "plt.close()"
   ]
  },
  {
   "cell_type": "code",
   "execution_count": 5,
   "id": "6e1b63e9-0d84-4a6f-93d7-514be6ee2d60",
   "metadata": {},
   "outputs": [],
   "source": [
    "#actions : up, down, right, left, nothing\n",
    "actions = {\"up\" : (1,0), \"dwn\" : (-1,0), \"rght\": (0,1), \"lft\" : (0,-1), \"nthng\" :(0,0)}"
   ]
  },
  {
   "cell_type": "code",
   "execution_count": 6,
   "id": "160052ce-01f3-4db6-8272-0a1b4f42e46b",
   "metadata": {},
   "outputs": [],
   "source": [
    "def BellmanOp(x, u, actions_set = actions): #Bellman operator\n",
    "    values = {\"max\" : -np.inf, \"argmax\" : []}\n",
    "    for a in actions_set:\n",
    "        s = tuple(map(sum, zip(x, actions_set[a]))) #new state (s=x+a) by action a\n",
    "        \n",
    "        if maze[s] == 1: #check if new stat is not a wall\n",
    "            continue\n",
    "        else:\n",
    "            if x == goal and a == \"nthng\": #reward function\n",
    "                B = 1 + g*u[s]\n",
    "\n",
    "                if values[\"max\"] == B:\n",
    "                    values[\"argmax\"].append(a)\n",
    "\n",
    "                elif values[\"max\"] < B:\n",
    "                    values[\"max\"] = B\n",
    "                    values[\"argmax\"] = [a]\n",
    "            \n",
    "            else:\n",
    "                B = g*u[s]\n",
    "\n",
    "                if values[\"max\"] == B:\n",
    "                    values[\"argmax\"].append(a)\n",
    "\n",
    "                elif values[\"max\"] < B:\n",
    "                    values[\"max\"] = B\n",
    "                    values[\"argmax\"] = [a]\n",
    "    return values"
   ]
  },
  {
   "cell_type": "code",
   "execution_count": 7,
   "id": "48f1919c-1584-47df-9a4a-541bfbf2386b",
   "metadata": {},
   "outputs": [],
   "source": [
    "vn = np.zeros((N,M)) #start v0 as an array of zeroes\n",
    "vni = np.zeros((N, M))\n",
    "decision_grid = []\n",
    "\n",
    "iterations = 1\n",
    "\n",
    "g = 0.95 #gamma"
   ]
  },
  {
   "cell_type": "code",
   "execution_count": 8,
   "id": "6ea1d86d-d688-485a-8ba7-02ece8b430d9",
   "metadata": {},
   "outputs": [],
   "source": [
    "for i in range(0,N):\n",
    "    for r in range(0,M): #state x = (i,j)\n",
    "        if maze[(i,r)] == 1:\n",
    "            continue\n",
    "        else:\n",
    "            values = BellmanOp((i,r), vn)\n",
    "            vni[i,r] = values[\"max\"]\n",
    "            decision_grid.append({\"index\" : (i,r), \"argmax\" : values[\"argmax\"]})"
   ]
  },
  {
   "cell_type": "code",
   "execution_count": 9,
   "id": "a40e8e9b-c708-4ca4-9273-a53ddce2c226",
   "metadata": {},
   "outputs": [],
   "source": [
    "while distance.chebyshev(np.ravel(vni), np.ravel(vn)) >= 0.00000000001: #---> epsilon = 3.8 e^-10\n",
    "    vn = np.copy(vni)\n",
    "    decision_grid = []\n",
    "    for i in range(0,N):\n",
    "        for r in range(0,M): #state x = (i,j)\n",
    "            if maze[(i,r)] == 1:\n",
    "                continue\n",
    "            else:\n",
    "                values = BellmanOp((i,r), vn)\n",
    "                vni[i,r] = values[\"max\"]\n",
    "                decision_grid.append({\"index\" : (i,r), \"argmax\" : values[\"argmax\"]})\n",
    "            \n",
    "    iterations += 1"
   ]
  },
  {
   "cell_type": "code",
   "execution_count": 10,
   "id": "390e2238-fc7b-4666-9bb7-f1be1351dc99",
   "metadata": {
    "tags": []
   },
   "outputs": [
    {
     "name": "stdout",
     "output_type": "stream",
     "text": [
      "2.75929856300354\n"
     ]
    }
   ],
   "source": [
    "print(time.time() - start_time) #time needed for running the notebook"
   ]
  },
  {
   "cell_type": "code",
   "execution_count": 11,
   "id": "dcf13942-b9d3-4d1f-b582-d98a638a3ab4",
   "metadata": {},
   "outputs": [
    {
     "name": "stdout",
     "output_type": "stream",
     "text": [
      "Number of iterations:  495\n"
     ]
    }
   ],
   "source": [
    "print(\"Number of iterations: \", iterations)"
   ]
  },
  {
   "cell_type": "code",
   "execution_count": 12,
   "id": "9854a53d-2e19-472b-96bd-4acb5a828f47",
   "metadata": {
    "tags": []
   },
   "outputs": [],
   "source": [
    "maze = maze.astype('float64') \n",
    "position = (1,1) #initial position\n",
    "maze[position] = 0.5"
   ]
  },
  {
   "cell_type": "code",
   "execution_count": 13,
   "id": "f630ddd1-392c-434f-882d-d145438ab73f",
   "metadata": {
    "tags": []
   },
   "outputs": [],
   "source": [
    "while position != goal:\n",
    "    drule = next((item for item in decision_grid if item[\"index\"] == position), False)\n",
    "    a_id = np.random.choice(len(drule[\"argmax\"]))\n",
    "    position = tuple(map(sum, zip(position, actions[drule[\"argmax\"][a_id]]))) #take action a\n",
    "    maze[position] = 0.5"
   ]
  },
  {
   "cell_type": "code",
   "execution_count": 14,
   "id": "9917ddd4-1392-4ee6-953b-120536acfb88",
   "metadata": {
    "tags": []
   },
   "outputs": [
    {
     "data": {
      "image/png": "[encoded data removed]",
      "text/plain": [
       "<Figure size 640x480 with 1 Axes>"
      ]
     },
     "metadata": {},
     "output_type": "display_data"
    }
   ],
   "source": [
    "fig, ax = plt.subplots()\n",
    "ax.matshow(1-maze,  origin='lower', cmap='gray', vmin=0, vmax=1)\n",
    "fig.tight_layout()\n",
    "plt.show()\n",
    "plt.close()"
   ]
  },
  {
   "cell_type": "code",
   "execution_count": null,
   "id": "1d4351b5-1808-435f-8e80-73fbba808471",
   "metadata": {},
   "outputs": [],
   "source": []
  }
 ],
 "metadata": {
  "kernelspec": {
   "display_name": "Python 3 (ipykernel)",
   "language": "python",
   "name": "python3"
  },
  "language_info": {
   "codemirror_mode": {
    "name": "ipython",
    "version": 3
   },
   "file_extension": ".py",
   "mimetype": "text/x-python",
   "name": "python",
   "nbconvert_exporter": "python",
   "pygments_lexer": "ipython3",
   "version": "3.11.5"
  }
 },
 "nbformat": 4,
 "nbformat_minor": 5
}
