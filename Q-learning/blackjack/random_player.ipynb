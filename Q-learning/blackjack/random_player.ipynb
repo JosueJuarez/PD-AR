{
 "cells": [
  {
   "cell_type": "code",
   "execution_count": 1,
   "id": "f288cffa-dcc5-47c5-ae9f-c03cee441fc2",
   "metadata": {},
   "outputs": [],
   "source": [
    "import numpy as np\n",
    "import gymnasium as gym"
   ]
  },
  {
   "cell_type": "code",
   "execution_count": 2,
   "id": "e0688230-efee-4e96-8dd1-7921a841c7c8",
   "metadata": {},
   "outputs": [],
   "source": [
    "def custom_reward(system_reward, terminated): #give rewart to hit actions wich dosen't end the game\n",
    "    if (system_reward == 0.0) and (terminated == False):\n",
    "        return 0.5\n",
    "    else:\n",
    "        return system_reward"
   ]
  },
  {
   "cell_type": "markdown",
   "id": "ec69424e-7241-456c-92eb-d226a39471b5",
   "metadata": {},
   "source": [
    "play with random actions"
   ]
  },
  {
   "cell_type": "code",
   "execution_count": 3,
   "id": "90313d68-58d6-40d4-a878-fa346945b034",
   "metadata": {},
   "outputs": [],
   "source": [
    "def env_simulation(gamma, reward_func): # simulate enviorenment with random actions\n",
    "    env = gym.make('Blackjack-v1', sab=True).env\n",
    "\n",
    "    SIMULATIONS = 10000 #number of simulations to perform\n",
    "    GAMMA = gamma\n",
    "\n",
    "    rewards = [] # rewards from simulations\n",
    "    succes_count = 0\n",
    "    \n",
    "    for i in range(SIMULATIONS):\n",
    "        xn, info = env.reset() #x0\n",
    "        player_sum, dealer_card, player_as = xn\n",
    "        \n",
    "        ep_finished = False\n",
    "\n",
    "        reward_sim = 0. #reawrd from current simulation\n",
    "        k = 0\n",
    "\n",
    "        while ep_finished == False:\n",
    "            k += 1\n",
    "            #an = d_rule[player_as,player_sum,dealer_card]\n",
    "            an = env.action_space.sample()\n",
    "\n",
    "            s, system_reward, ep_finished, episode_truncation, info = env.step(an)\n",
    "            reward = reward_func(system_reward, ep_finished)\n",
    "            reward_sim += (GAMMA**k)*reward #discounted\n",
    "\n",
    "            xn = s\n",
    "                \n",
    "        rewards.append(reward_sim)\n",
    "        \n",
    "        if (ep_finished == True) and (system_reward == 1.0):\n",
    "            succes_count += 1\n",
    "\n",
    "    sim_rewards_mean = np.array(rewards).mean()\n",
    "    sim_succes_rate = succes_count/SIMULATIONS\n",
    "\n",
    "    return sim_rewards_mean, sim_succes_rate"
   ]
  },
  {
   "cell_type": "code",
   "execution_count": 4,
   "id": "330a2e30-f07e-45ed-9262-2c0de20b49cf",
   "metadata": {},
   "outputs": [],
   "source": [
    "discounted_reward_mean, succes_rate = env_simulation(0.95, custom_reward)"
   ]
  },
  {
   "cell_type": "code",
   "execution_count": 5,
   "id": "665c7c0b-e673-4ac6-aa17-17f191299a90",
   "metadata": {},
   "outputs": [
    {
     "name": "stdout",
     "output_type": "stream",
     "text": [
      "-0.19269589575 0.2815\n"
     ]
    }
   ],
   "source": [
    "print(discounted_reward_mean, succes_rate)"
   ]
  },
  {
   "cell_type": "markdown",
   "id": "9dd77aae-c6bd-4f92-9d07-99d94e3e3746",
   "metadata": {},
   "source": [
    "stick if player's sum is 18 or bigger, hit otherwise"
   ]
  },
  {
   "cell_type": "code",
   "execution_count": 6,
   "id": "bcd847a0-21f6-4ff2-aab1-69a023c73f01",
   "metadata": {},
   "outputs": [],
   "source": [
    "def env_simulation_2(gamma, reward_func):\n",
    "    env = gym.make('Blackjack-v1', sab=True).env\n",
    "\n",
    "    SIMULATIONS = 10000 #number of simulations to perform\n",
    "    GAMMA = gamma\n",
    "\n",
    "    rewards = [] # rewards from simulations\n",
    "    succes_count = 0\n",
    "    \n",
    "    for i in range(SIMULATIONS):\n",
    "        xn, info = env.reset() #x0\n",
    "        player_sum, dealer_card, player_as = xn\n",
    "        \n",
    "        ep_finished = False\n",
    "\n",
    "        reward_sim = 0. #reawrd from current simulation\n",
    "        k = 0\n",
    "\n",
    "        while ep_finished == False:\n",
    "            k += 1\n",
    "            #an = d_rule[player_as,player_sum,dealer_card]\n",
    "            if player_sum >= 18:\n",
    "                an = 0\n",
    "            else:\n",
    "                an = 1\n",
    "\n",
    "            s, system_reward, ep_finished, episode_truncation, info = env.step(an)\n",
    "            player_sum, dealer_card, player_as = s\n",
    "            reward = reward_func(system_reward, ep_finished)\n",
    "            reward_sim += (GAMMA**k)*reward #discounted\n",
    "\n",
    "            xn = s\n",
    "                \n",
    "        rewards.append(reward_sim)\n",
    "        \n",
    "        if (ep_finished == True) and (system_reward == 1.0):\n",
    "            succes_count += 1\n",
    "\n",
    "    sim_rewards_mean = np.array(rewards).mean()\n",
    "    sim_succes_rate = succes_count/SIMULATIONS\n",
    "\n",
    "    return sim_rewards_mean, sim_succes_rate"
   ]
  },
  {
   "cell_type": "code",
   "execution_count": 7,
   "id": "ae6d5d92-194e-4b57-b56b-aeaf103b311d",
   "metadata": {},
   "outputs": [],
   "source": [
    "discounted_reward_mean, succes_rate = env_simulation_2(0.95, custom_reward)"
   ]
  },
  {
   "cell_type": "code",
   "execution_count": 8,
   "id": "d62f8d82-d5d0-4f0c-8ac7-d4fa6807f13c",
   "metadata": {},
   "outputs": [
    {
     "name": "stdout",
     "output_type": "stream",
     "text": [
      "0.22391156370156245 0.4031\n"
     ]
    }
   ],
   "source": [
    "print(discounted_reward_mean, succes_rate)"
   ]
  },
  {
   "cell_type": "markdown",
   "id": "09d3e97b-19a5-46fa-bfe1-b493f7a34ad0",
   "metadata": {},
   "source": [
    "allways stick"
   ]
  },
  {
   "cell_type": "code",
   "execution_count": 9,
   "id": "01cdc514-0fd5-4cb5-a16e-41ca5ff1e7ba",
   "metadata": {},
   "outputs": [],
   "source": [
    "def env_simulation_3(gamma, reward_func): # simulate enviorenment with random actions\n",
    "    env = gym.make('Blackjack-v1', sab=True).env\n",
    "\n",
    "    SIMULATIONS = 10000 #number of simulations to perform\n",
    "    GAMMA = gamma\n",
    "\n",
    "    rewards = [] # rewards from simulations\n",
    "    succes_count = 0\n",
    "    \n",
    "    for i in range(SIMULATIONS):\n",
    "        xn, info = env.reset() #x0\n",
    "        player_sum, dealer_card, player_as = xn\n",
    "        \n",
    "        ep_finished = False\n",
    "\n",
    "        reward_sim = 0. #reawrd from current simulation\n",
    "        k = 0\n",
    "\n",
    "        while ep_finished == False:\n",
    "            k += 1\n",
    "            #an = d_rule[player_as,player_sum,dealer_card]\n",
    "            an = 0\n",
    "\n",
    "            s, system_reward, ep_finished, episode_truncation, info = env.step(an)\n",
    "            reward = reward_func(system_reward, ep_finished)\n",
    "            reward_sim += (GAMMA**k)*reward #discounted\n",
    "\n",
    "            xn = s\n",
    "                \n",
    "        rewards.append(reward_sim)\n",
    "        \n",
    "        if (ep_finished == True) and (system_reward == 1.0):\n",
    "            succes_count += 1\n",
    "\n",
    "    sim_rewards_mean = np.array(rewards).mean()\n",
    "    sim_succes_rate = succes_count/SIMULATIONS\n",
    "\n",
    "    return sim_rewards_mean, sim_succes_rate"
   ]
  },
  {
   "cell_type": "code",
   "execution_count": 10,
   "id": "5fcad4ba-906a-4672-99b0-8cde7d5de0a8",
   "metadata": {},
   "outputs": [],
   "source": [
    "discounted_reward_mean, succes_rate = env_simulation_3(0.95, custom_reward)"
   ]
  },
  {
   "cell_type": "code",
   "execution_count": 11,
   "id": "ced73cb1-4f89-4221-91a0-89f1dc96ba64",
   "metadata": {},
   "outputs": [
    {
     "name": "stdout",
     "output_type": "stream",
     "text": [
      "-0.16929 0.3866\n"
     ]
    }
   ],
   "source": [
    "print(discounted_reward_mean, succes_rate)"
   ]
  },
  {
   "cell_type": "code",
   "execution_count": null,
   "id": "5941e802-2236-4b90-af9e-0ed94e23f3d9",
   "metadata": {},
   "outputs": [],
   "source": []
  }
 ],
 "metadata": {
  "kernelspec": {
   "display_name": "Python 3 (ipykernel)",
   "language": "python",
   "name": "python3"
  },
  "language_info": {
   "codemirror_mode": {
    "name": "ipython",
    "version": 3
   },
   "file_extension": ".py",
   "mimetype": "text/x-python",
   "name": "python",
   "nbconvert_exporter": "python",
   "pygments_lexer": "ipython3",
   "version": "3.11.7"
  }
 },
 "nbformat": 4,
 "nbformat_minor": 5
}
