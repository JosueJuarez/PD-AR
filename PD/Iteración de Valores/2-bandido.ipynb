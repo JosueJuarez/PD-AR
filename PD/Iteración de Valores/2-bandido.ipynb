{
 "cells": [
  {
   "cell_type": "code",
   "execution_count": 1,
   "id": "924b6bde-593d-4656-ac03-117ca2604821",
   "metadata": {
    "tags": []
   },
   "outputs": [],
   "source": [
    "import numpy as np\n",
    "from scipy.spatial import distance\n",
    "import time"
   ]
  },
  {
   "cell_type": "code",
   "execution_count": 2,
   "id": "1a1ebaad-767d-4072-9eab-97883fb29328",
   "metadata": {},
   "outputs": [],
   "source": [
    "start_time = time.time()"
   ]
  },
  {
   "cell_type": "code",
   "execution_count": 3,
   "id": "4cf5d576-dad3-449c-8884-ccc7ac5a387f",
   "metadata": {
    "tags": []
   },
   "outputs": [],
   "source": [
    "N = 4 #four states in eache one\n",
    "P1 = np.array([[0.3,0.4,0.2,0.1], [0.2,0.3,0.5,0.0], [0.1,0.0,0.8,0.1], [0.4,0.0,0.0,0.6]]) #transition probability matrix\n",
    "P2 = np.array([[0.1,0.1,0.1,0.7], [0.1,0.1,0.1,0.7], [0.1,0.1,0.1,0.7], [0.,0.,0.,1.0]])"
   ]
  },
  {
   "cell_type": "code",
   "execution_count": 4,
   "id": "6e1b63e9-0d84-4a6f-93d7-514be6ee2d60",
   "metadata": {},
   "outputs": [],
   "source": [
    "#actions : choose bandit 1 or 2\n",
    "actions = [1,2]"
   ]
  },
  {
   "cell_type": "code",
   "execution_count": 5,
   "id": "30b9354e-1146-4382-a9ce-8ed91f091708",
   "metadata": {},
   "outputs": [],
   "source": [
    "def R1(x):\n",
    "    return x+7\n",
    "\n",
    "def R2(x):\n",
    "    if x == 3:\n",
    "        return 0.\n",
    "    else:\n",
    "        return x+17"
   ]
  },
  {
   "cell_type": "code",
   "execution_count": 6,
   "id": "c439a3ae-c7ea-49dd-921a-e98f9d87c218",
   "metadata": {},
   "outputs": [],
   "source": [
    "def RewardFunc(s,a): #reward function\n",
    "    if a == 1:\n",
    "        return R1(s[0])\n",
    "    else:\n",
    "        return R2(s[1])"
   ]
  },
  {
   "cell_type": "code",
   "execution_count": 7,
   "id": "5536900a-2476-4781-98e5-bed7a1b3dc66",
   "metadata": {},
   "outputs": [],
   "source": [
    "def ProbTrans(r,s,a): #probability transition function\n",
    "    if a == 1 and r[1] == s[1]:\n",
    "        return P1[s[0],r[0]]\n",
    "    elif a == 2 and r[0] == s[0]:\n",
    "        return P2[s[1],r[1]]\n",
    "    else:\n",
    "        return 0."
   ]
  },
  {
   "cell_type": "code",
   "execution_count": 8,
   "id": "657ecacd-1676-4cd3-89f7-a8b2eed74d7d",
   "metadata": {},
   "outputs": [],
   "source": [
    "def ExpectedVal(s,a,u): #expected value\n",
    "    suma = 0.\n",
    "    for i in range(0,N):\n",
    "        for j in range(0,N):\n",
    "            suma += ProbTrans((i,j),s,a)*u[(i,j)]\n",
    "    return suma"
   ]
  },
  {
   "cell_type": "code",
   "execution_count": 9,
   "id": "b10b0a98-73d2-4ddc-af00-a348f1c50d8f",
   "metadata": {},
   "outputs": [],
   "source": [
    "def BellmanOp(x, u, actions_set = actions): #Bellman operator\n",
    "    values = {\"max\" : -np.inf, \"argmax\" : []}\n",
    "    for a in actions_set:\n",
    "        B = RewardFunc(x,a) + g*ExpectedVal(x,a,u)\n",
    "        \n",
    "        if values[\"max\"] == B:\n",
    "            values[\"argmax\"].append(a)\n",
    "            \n",
    "        elif values[\"max\"] < B:\n",
    "            values[\"max\"] = B\n",
    "            values[\"argmax\"] = [a]\n",
    "            \n",
    "    return values"
   ]
  },
  {
   "cell_type": "code",
   "execution_count": 10,
   "id": "48f1919c-1584-47df-9a4a-541bfbf2386b",
   "metadata": {},
   "outputs": [],
   "source": [
    "vn = np.zeros((N,N)) #start v0 as an array of zeroes\n",
    "vni = np.zeros((N,N))\n",
    "decision_grid = []\n",
    "\n",
    "iterations = 1\n",
    "\n",
    "e = 0.15 #epsilon\n",
    "g = 0.95 #gamma"
   ]
  },
  {
   "cell_type": "code",
   "execution_count": 11,
   "id": "6ea1d86d-d688-485a-8ba7-02ece8b430d9",
   "metadata": {},
   "outputs": [],
   "source": [
    "#first iteration\n",
    "for i in range(0,N):\n",
    "    for r in range(0,N): #state x = (i,j)\n",
    "        values = BellmanOp((i,r), vn)\n",
    "        vni[i,r] = values[\"max\"]\n",
    "        decision_grid.append({\"index\" : (i,r), \"argmax\" : values[\"argmax\"]})"
   ]
  },
  {
   "cell_type": "code",
   "execution_count": 12,
   "id": "a40e8e9b-c708-4ca4-9273-a53ddce2c226",
   "metadata": {},
   "outputs": [],
   "source": [
    "while distance.chebyshev(np.ravel(vni), np.ravel(vn)) >= e*(1-g)/(2*g):\n",
    "    vn = np.copy(vni)\n",
    "    decision_grid = []\n",
    "    for i in range(0,N):\n",
    "        for r in range(0,N): #state x = (i,j)\n",
    "            values = BellmanOp((i,r), vn)\n",
    "            vni[i,r] = values[\"max\"]\n",
    "            decision_grid.append({\"index\" : (i,r), \"argmax\" : values[\"argmax\"]})\n",
    "            \n",
    "    iterations += 1"
   ]
  },
  {
   "cell_type": "code",
   "execution_count": 13,
   "id": "1ccce0c8-e047-4c20-a7c1-f143bcc7b557",
   "metadata": {
    "tags": []
   },
   "outputs": [
    {
     "name": "stdout",
     "output_type": "stream",
     "text": [
      "0.13083648681640625\n"
     ]
    }
   ],
   "source": [
    "print(time.time() - start_time) #time needed for running the notebook"
   ]
  },
  {
   "cell_type": "code",
   "execution_count": 14,
   "id": "1cb1349d-ea5e-46b0-97aa-07c6a125cba1",
   "metadata": {},
   "outputs": [
    {
     "name": "stdout",
     "output_type": "stream",
     "text": [
      "Number of iterations:  151\n"
     ]
    }
   ],
   "source": [
    "print(\"Number of iterations: \", iterations)"
   ]
  },
  {
   "cell_type": "code",
   "execution_count": 15,
   "id": "650b5245-2cb6-405f-94f8-227844d61b2a",
   "metadata": {
    "tags": []
   },
   "outputs": [],
   "source": [
    "#save decision rule\n",
    "import json\n",
    "\n",
    "with open('2-bandit_drule.txt', 'w') as f:\n",
    "    f.write(json.dumps(decision_grid))"
   ]
  },
  {
   "cell_type": "code",
   "execution_count": 16,
   "id": "1410bd45-1867-4b75-aa5e-b260b6b80081",
   "metadata": {
    "tags": []
   },
   "outputs": [
    {
     "data": {
      "text/plain": [
       "[{'index': (0, 0), 'argmax': [2]},\n",
       " {'index': (0, 1), 'argmax': [2]},\n",
       " {'index': (0, 2), 'argmax': [2]},\n",
       " {'index': (0, 3), 'argmax': [1]},\n",
       " {'index': (1, 0), 'argmax': [2]},\n",
       " {'index': (1, 1), 'argmax': [2]},\n",
       " {'index': (1, 2), 'argmax': [2]},\n",
       " {'index': (1, 3), 'argmax': [1]},\n",
       " {'index': (2, 0), 'argmax': [2]},\n",
       " {'index': (2, 1), 'argmax': [2]},\n",
       " {'index': (2, 2), 'argmax': [2]},\n",
       " {'index': (2, 3), 'argmax': [1]},\n",
       " {'index': (3, 0), 'argmax': [2]},\n",
       " {'index': (3, 1), 'argmax': [2]},\n",
       " {'index': (3, 2), 'argmax': [2]},\n",
       " {'index': (3, 3), 'argmax': [1]}]"
      ]
     },
     "execution_count": 16,
     "metadata": {},
     "output_type": "execute_result"
    }
   ],
   "source": [
    "decision_grid"
   ]
  },
  {
   "cell_type": "code",
   "execution_count": 17,
   "id": "be24aa1b-da3a-4616-9b1b-f42b9f5f2012",
   "metadata": {},
   "outputs": [
    {
     "name": "stdout",
     "output_type": "stream",
     "text": [
      "[[182.67 183.67 184.67 170.42]\n",
      " [184.05 185.05 186.05 171.9 ]\n",
      " [185.77 186.77 187.77 173.76]\n",
      " [185.86 186.86 187.86 173.85]]\n"
     ]
    }
   ],
   "source": [
    "print(np.around(vni,2))"
   ]
  },
  {
   "cell_type": "code",
   "execution_count": null,
   "id": "350fe60c-ecd9-49e6-9a25-2123813ca2a8",
   "metadata": {},
   "outputs": [],
   "source": []
  }
 ],
 "metadata": {
  "kernelspec": {
   "display_name": "Python 3 (ipykernel)",
   "language": "python",
   "name": "python3"
  },
  "language_info": {
   "codemirror_mode": {
    "name": "ipython",
    "version": 3
   },
   "file_extension": ".py",
   "mimetype": "text/x-python",
   "name": "python",
   "nbconvert_exporter": "python",
   "pygments_lexer": "ipython3",
   "version": "3.11.5"
  }
 },
 "nbformat": 4,
 "nbformat_minor": 5
}
